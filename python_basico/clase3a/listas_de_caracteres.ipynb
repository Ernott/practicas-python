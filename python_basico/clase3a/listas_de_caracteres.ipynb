{
 "cells": [
  {
   "cell_type": "markdown",
   "id": "8d4609ce",
   "metadata": {},
   "source": [
    "1. Crea una lista llamada frutas que contengan los siguientes nombres de frutas como cadenas de caracteres: manzana, plátano, cereza, pera, higo, frambuesa y fresa."
   ]
  },
  {
   "cell_type": "code",
   "execution_count": 2,
   "id": "06bb075e",
   "metadata": {},
   "outputs": [],
   "source": [
    "frutas = ['manzana', 'platano', 'cereza', 'pera', 'higo', 'frambuesa', 'fresa']"
   ]
  },
  {
   "cell_type": "markdown",
   "id": "3ccae295",
   "metadata": {},
   "source": [
    "2. Usa la función len() para imprimir la longitud de la lista frutas."
   ]
  },
  {
   "cell_type": "code",
   "execution_count": 3,
   "id": "98e68f28",
   "metadata": {},
   "outputs": [
    {
     "name": "stdout",
     "output_type": "stream",
     "text": [
      "La longitud de la lista frutas es de 7\n"
     ]
    }
   ],
   "source": [
    "print('La longitud de la lista frutas es de', len(frutas))"
   ]
  },
  {
   "cell_type": "markdown",
   "id": "547118c6",
   "metadata": {},
   "source": [
    "3. Accede al objeto numero 3 de la lista e imprímelo or consola."
   ]
  },
  {
   "cell_type": "code",
   "execution_count": 4,
   "id": "708e5721",
   "metadata": {},
   "outputs": [
    {
     "name": "stdout",
     "output_type": "stream",
     "text": [
      "El objeto 3 de la lista frutas es cereza\n"
     ]
    }
   ],
   "source": [
    "print('El objeto 3 de la lista frutas es', frutas[2])"
   ]
  },
  {
   "cell_type": "markdown",
   "id": "1947b09b",
   "metadata": {},
   "source": [
    "4. Modifica el segundo objeto de la lista y cambiado a mora"
   ]
  },
  {
   "cell_type": "code",
   "execution_count": 5,
   "id": "e33a0ac3",
   "metadata": {},
   "outputs": [
    {
     "name": "stdout",
     "output_type": "stream",
     "text": [
      "El objeto 2 de la lista frutas es mora\n"
     ]
    }
   ],
   "source": [
    "frutas[1]='mora'\n",
    "print('El objeto 2 de la lista frutas es', frutas[1])"
   ]
  },
  {
   "cell_type": "markdown",
   "id": "a000cd5f",
   "metadata": {},
   "source": [
    "5. Añade el string mango al final de la lista"
   ]
  },
  {
   "cell_type": "code",
   "execution_count": 6,
   "id": "53c9a018",
   "metadata": {},
   "outputs": [
    {
     "name": "stdout",
     "output_type": "stream",
     "text": [
      "El nuevo objeto es mango\n"
     ]
    }
   ],
   "source": [
    "frutas.append('mango')\n",
    "print('El nuevo objeto es', frutas[7])"
   ]
  },
  {
   "cell_type": "markdown",
   "id": "03e73916",
   "metadata": {},
   "source": [
    "6. Usa el método insert() y añade el string “uva“ año comienzo de la lista. "
   ]
  },
  {
   "cell_type": "code",
   "execution_count": 7,
   "id": "cf6a53b9",
   "metadata": {},
   "outputs": [
    {
     "name": "stdout",
     "output_type": "stream",
     "text": [
      "El objeto 0 es uva\n"
     ]
    }
   ],
   "source": [
    "frutas.insert(0,'uva')\n",
    "print('El objeto 0 es', frutas[0])"
   ]
  },
  {
   "cell_type": "markdown",
   "id": "41a4d4b1",
   "metadata": {},
   "source": [
    "7. Usa un bucle para recorrer la lista e imprimir cada fruta por la consola"
   ]
  },
  {
   "cell_type": "code",
   "execution_count": 8,
   "id": "93214082",
   "metadata": {},
   "outputs": [
    {
     "name": "stdout",
     "output_type": "stream",
     "text": [
      "Recorriendo la lista frutas con un bucle: \n",
      "uva\n",
      "manzana\n",
      "mora\n",
      "cereza\n",
      "pera\n",
      "higo\n",
      "frambuesa\n",
      "fresa\n",
      "mango\n"
     ]
    }
   ],
   "source": [
    "print('Recorriendo la lista frutas con un bucle: ')\n",
    "for fruta in frutas:\n",
    "    print(fruta)"
   ]
  },
  {
   "cell_type": "markdown",
   "id": "f3567453",
   "metadata": {},
   "source": [
    "8. Usa el método pop() para eliminar el último elemento de la lista y guárdalo en una variable llamada “ultima_fruta“."
   ]
  },
  {
   "cell_type": "code",
   "execution_count": 9,
   "id": "0a896f14",
   "metadata": {},
   "outputs": [
    {
     "name": "stdout",
     "output_type": "stream",
     "text": [
      "La ultima fruta eliminada es mango\n"
     ]
    }
   ],
   "source": [
    "ultima_fruta = frutas.pop()\n",
    "print('La ultima fruta eliminada es', ultima_fruta)"
   ]
  },
  {
   "cell_type": "markdown",
   "id": "e4c33192",
   "metadata": {},
   "source": [
    "9. Realiza un bucle que recorra la lista e imprima cada una de las frutas por consola"
   ]
  },
  {
   "cell_type": "code",
   "execution_count": 10,
   "id": "a181021d",
   "metadata": {},
   "outputs": [
    {
     "name": "stdout",
     "output_type": "stream",
     "text": [
      "Recorriendo la lista frutas con un bucle: \n",
      "uva\n",
      "manzana\n",
      "mora\n",
      "cereza\n",
      "pera\n",
      "higo\n",
      "frambuesa\n",
      "fresa\n"
     ]
    }
   ],
   "source": [
    "print('Recorriendo la lista frutas con un bucle: ')\n",
    "for fruta in frutas:\n",
    "    print(fruta)"
   ]
  },
  {
   "cell_type": "markdown",
   "id": "d37bace8",
   "metadata": {},
   "source": [
    "10. Modifica el script para que imprima también la longitud de cada nombre de fruta por consola"
   ]
  },
  {
   "cell_type": "code",
   "execution_count": 11,
   "id": "e66a09b3",
   "metadata": {},
   "outputs": [
    {
     "name": "stdout",
     "output_type": "stream",
     "text": [
      "Recorriendo la lista frutas y cada letra con un bucle: \n",
      "Deletreare la fruta uva\n",
      "u\n",
      "v\n",
      "a\n",
      "Deletreare la fruta manzana\n",
      "m\n",
      "a\n",
      "n\n",
      "z\n",
      "a\n",
      "n\n",
      "a\n",
      "Deletreare la fruta mora\n",
      "m\n",
      "o\n",
      "r\n",
      "a\n",
      "Deletreare la fruta cereza\n",
      "c\n",
      "e\n",
      "r\n",
      "e\n",
      "z\n",
      "a\n",
      "Deletreare la fruta pera\n",
      "p\n",
      "e\n",
      "r\n",
      "a\n",
      "Deletreare la fruta higo\n",
      "h\n",
      "i\n",
      "g\n",
      "o\n",
      "Deletreare la fruta frambuesa\n",
      "f\n",
      "r\n",
      "a\n",
      "m\n",
      "b\n",
      "u\n",
      "e\n",
      "s\n",
      "a\n",
      "Deletreare la fruta fresa\n",
      "f\n",
      "r\n",
      "e\n",
      "s\n",
      "a\n"
     ]
    }
   ],
   "source": [
    "print('Recorriendo la lista frutas y cada letra con un bucle: ')\n",
    "for fruta in frutas:\n",
    "    print('Deletreare la fruta', fruta)\n",
    "    for letra in fruta:\n",
    "        print(letra)"
   ]
  },
  {
   "cell_type": "markdown",
   "id": "dec84b94",
   "metadata": {},
   "source": [
    "11. Modifica el script para que recorra la lista de frutas y solo imprima aquellos nombres que tengan más de 5 caracteres"
   ]
  },
  {
   "cell_type": "code",
   "execution_count": 12,
   "id": "49dba41b",
   "metadata": {},
   "outputs": [
    {
     "name": "stdout",
     "output_type": "stream",
     "text": [
      "La frutas deletreadas mayor a 5 caracteres son: \n",
      "manzana\n",
      "La frutas deletreadas mayor a 5 caracteres son: \n",
      "cereza\n",
      "La frutas deletreadas mayor a 5 caracteres son: \n",
      "frambuesa\n",
      "La frutas deletreadas mayor a 5 caracteres son: \n",
      "fresa\n"
     ]
    }
   ],
   "source": [
    "for fruta in frutas:\n",
    "    if len(fruta) >= 5:\n",
    "        print('La frutas deletreadas mayor a 5 caracteres son: ')\n",
    "        print(fruta)"
   ]
  },
  {
   "cell_type": "markdown",
   "id": "62413b62",
   "metadata": {},
   "source": [
    "12. Usa el método remove() para borrar el string “cereza“ de la lista."
   ]
  },
  {
   "cell_type": "code",
   "execution_count": 13,
   "id": "4c33dd34",
   "metadata": {},
   "outputs": [
    {
     "name": "stdout",
     "output_type": "stream",
     "text": [
      "['uva', 'manzana', 'mora', 'pera', 'higo', 'frambuesa', 'fresa']\n"
     ]
    }
   ],
   "source": [
    "frutas.remove('cereza')\n",
    "print(frutas)"
   ]
  },
  {
   "cell_type": "markdown",
   "id": "aeecb791",
   "metadata": {},
   "source": [
    "13. Usa el método clear() para vaciar la lista."
   ]
  },
  {
   "cell_type": "code",
   "execution_count": 14,
   "id": "abd210cd",
   "metadata": {},
   "outputs": [
    {
     "name": "stdout",
     "output_type": "stream",
     "text": [
      "[]\n"
     ]
    }
   ],
   "source": [
    "frutas.clear()\n",
    "print(frutas)"
   ]
  }
 ],
 "metadata": {
  "kernelspec": {
   "display_name": "env1",
   "language": "python",
   "name": "python3"
  },
  "language_info": {
   "codemirror_mode": {
    "name": "ipython",
    "version": 3
   },
   "file_extension": ".py",
   "mimetype": "text/x-python",
   "name": "python",
   "nbconvert_exporter": "python",
   "pygments_lexer": "ipython3",
   "version": "3.9.21"
  }
 },
 "nbformat": 4,
 "nbformat_minor": 5
}
