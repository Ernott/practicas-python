{
 "cells": [
  {
   "cell_type": "markdown",
   "id": "56bad30b",
   "metadata": {},
   "source": [
    "1. Crea una lista llamada “numeros“ que contenga los siguientes numeros enteros: \n",
    "[1,2,3,4,5,6,7,8,9,10]. "
   ]
  },
  {
   "cell_type": "code",
   "execution_count": 1,
   "id": "ad6dc88b",
   "metadata": {},
   "outputs": [],
   "source": [
    "numeros = [1,2,3,4,5,6,7,8,9,10]"
   ]
  },
  {
   "cell_type": "markdown",
   "id": "15ddc0c1",
   "metadata": {},
   "source": [
    "2. Crea una nueva lista con los números pares de la lista anterior en orden inverso "
   ]
  },
  {
   "cell_type": "code",
   "execution_count": 18,
   "id": "371aeb65",
   "metadata": {},
   "outputs": [
    {
     "name": "stdout",
     "output_type": "stream",
     "text": [
      "[10, 8, 6, 4, 2]\n"
     ]
    }
   ],
   "source": [
    "num_par_inv = []\n",
    "for num in numeros[::-1]:\n",
    "    if num % 2 == 0:\n",
    "        num_par_inv.append(num)\n",
    "print(num_par_inv)"
   ]
  },
  {
   "cell_type": "markdown",
   "id": "28361589",
   "metadata": {},
   "source": [
    "3. Escribe un bucle que recorra la lista “numeros“ e imprima el cuadrado de cada numero por consola."
   ]
  },
  {
   "cell_type": "code",
   "execution_count": 19,
   "id": "d666390b",
   "metadata": {},
   "outputs": [
    {
     "name": "stdout",
     "output_type": "stream",
     "text": [
      "1\n",
      "4\n",
      "9\n",
      "16\n",
      "25\n",
      "36\n",
      "49\n",
      "64\n",
      "81\n",
      "100\n"
     ]
    }
   ],
   "source": [
    "for num in numeros :\n",
    "    print(num**2)"
   ]
  },
  {
   "cell_type": "markdown",
   "id": "74437637",
   "metadata": {},
   "source": [
    "4. Intenta rehacer los pasos 2 y 3  con el menor número de lineas posible (método de compresión). "
   ]
  },
  {
   "cell_type": "code",
   "execution_count": 24,
   "id": "8a18f5d0",
   "metadata": {},
   "outputs": [
    {
     "name": "stdout",
     "output_type": "stream",
     "text": [
      "[10, 8, 6, 4, 2]\n"
     ]
    }
   ],
   "source": [
    "num_pares_inv = [num for num in numeros if num % 2 == 0][::-1]\n",
    "print(num_pares_inv)"
   ]
  }
 ],
 "metadata": {
  "kernelspec": {
   "display_name": "env1",
   "language": "python",
   "name": "python3"
  },
  "language_info": {
   "codemirror_mode": {
    "name": "ipython",
    "version": 3
   },
   "file_extension": ".py",
   "mimetype": "text/x-python",
   "name": "python",
   "nbconvert_exporter": "python",
   "pygments_lexer": "ipython3",
   "version": "3.9.21"
  }
 },
 "nbformat": 4,
 "nbformat_minor": 5
}
