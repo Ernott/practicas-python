{
 "cells": [
  {
   "cell_type": "markdown",
   "metadata": {},
   "source": [
    "1. Crea una tupla con tres elementos y imprime por pantalla cada uno de ellos en una\n",
    "nueva linea."
   ]
  },
  {
   "cell_type": "code",
   "execution_count": 1,
   "metadata": {},
   "outputs": [
    {
     "name": "stdout",
     "output_type": "stream",
     "text": [
      "1\n",
      "2\n",
      "3\n"
     ]
    }
   ],
   "source": [
    "mi_tupla=(1,2,3)\n",
    "for elementos in mi_tupla:\n",
    "    print(elementos)"
   ]
  },
  {
   "cell_type": "markdown",
   "metadata": {},
   "source": [
    "2. Crea una lista con tres elementos e intenta modificarla. Haz lo mismo con la tupla. ¿Cuáles son las diferencias?"
   ]
  },
  {
   "cell_type": "code",
   "execution_count": 3,
   "metadata": {},
   "outputs": [
    {
     "name": "stdout",
     "output_type": "stream",
     "text": [
      "[4, 2, 3]\n"
     ]
    }
   ],
   "source": [
    "mi_lista = [1,2,3]\n",
    "mi_lista[0] = 4\n",
    "print(mi_lista)\n",
    "#mi_tupla1 = (1,2,3)\n",
    "#mi_tupla1[0] = 4\n",
    "#print(mi_tupla1) #ERROR\n",
    "# La tupla no tiene orden especifico"
   ]
  },
  {
   "cell_type": "markdown",
   "metadata": {},
   "source": [
    "3. Crea una tupla de enteros y devuelve la suma de los elementos."
   ]
  },
  {
   "cell_type": "code",
   "execution_count": 4,
   "metadata": {},
   "outputs": [
    {
     "name": "stdout",
     "output_type": "stream",
     "text": [
      "6\n"
     ]
    }
   ],
   "source": [
    "enteros=[1,2,3]\n",
    "suma = sum(enteros)\n",
    "print(suma)"
   ]
  },
  {
   "cell_type": "markdown",
   "metadata": {},
   "source": [
    "4. Crea un script que dada una tupla que contiene strings cree una nueva tupla con el primer caracter de cada string."
   ]
  },
  {
   "cell_type": "code",
   "execution_count": 5,
   "metadata": {},
   "outputs": [
    {
     "name": "stdout",
     "output_type": "stream",
     "text": [
      "('m', 'p', 'n')\n",
      "---------------\n",
      "('m', 'p', 'n')\n"
     ]
    }
   ],
   "source": [
    "tupla_str = ('manzana', 'platano', 'naranja')\n",
    "lista=[]\n",
    "for palabra in tupla_str:\n",
    "    lista.append(palabra[0])\n",
    "nueva_tupla_str = tuple(lista)\n",
    "print(nueva_tupla_str)\n",
    "print('---------------')\n",
    "nueva_tupla_str1 = tuple(palabra[0] for palabra in tupla_str)\n",
    "print(nueva_tupla_str1)"
   ]
  },
  {
   "cell_type": "markdown",
   "metadata": {},
   "source": [
    "5. Crea un script que dada una tupla de números devuelva el producto de todos los números pares."
   ]
  },
  {
   "cell_type": "code",
   "execution_count": 6,
   "metadata": {},
   "outputs": [
    {
     "name": "stdout",
     "output_type": "stream",
     "text": [
      "48\n"
     ]
    }
   ],
   "source": [
    "tupla_par = (1,2,3,4,5,6)\n",
    "producto = 1\n",
    "for num in tupla_par:\n",
    "    if num % 2==0:\n",
    "        producto = producto * num\n",
    "print(producto)"
   ]
  },
  {
   "cell_type": "markdown",
   "metadata": {},
   "source": [
    "6. Crea un script que dada una tupla de números, devuelva la tupla con los numeros\n",
    "ordeandos en orden descendente."
   ]
  },
  {
   "cell_type": "code",
   "execution_count": 9,
   "metadata": {},
   "outputs": [
    {
     "name": "stdout",
     "output_type": "stream",
     "text": [
      "(8, 6, 4, 2, 1)\n"
     ]
    }
   ],
   "source": [
    "mi_tupla =(4,1,6,2,8)\n",
    "mi_tupla = tuple(sorted(mi_tupla, reverse = True))\n",
    "print(mi_tupla)"
   ]
  },
  {
   "cell_type": "markdown",
   "metadata": {},
   "source": [
    "7. Crea un script que dada una tupla con números enteros repetidos, elimine los\n",
    "duplicados. (Puedes usar sets)."
   ]
  },
  {
   "cell_type": "code",
   "execution_count": null,
   "metadata": {},
   "outputs": [
    {
     "name": "stdout",
     "output_type": "stream",
     "text": [
      "{1, 2, 3, 4, 5, 6}\n"
     ]
    }
   ],
   "source": [
    "mi_tupla=(1,1,2,3,4,4,5,6)\n",
    "mi_set = set(mi_tupla)\n",
    "mi_tupla_sin_duplicados = tuple(mi_set)\n",
    "print(mi_tupla_sin_duplicados)"
   ]
  },
  {
   "cell_type": "markdown",
   "metadata": {},
   "source": [
    "8. Crea un script que dada una tupla y un numero entero, devuelve verdadero si el\n",
    "numero se encuentra en la tupla y falso en el caso contrario."
   ]
  },
  {
   "cell_type": "code",
   "execution_count": null,
   "metadata": {},
   "outputs": [
    {
     "name": "stdout",
     "output_type": "stream",
     "text": [
      "False\n"
     ]
    }
   ],
   "source": [
    "mi_tupla=(1,2,3,4,5,6)\n",
    "entero= 7\n",
    "comprobacion = entero in mi_tupla\n",
    "print(comprobacion)"
   ]
  },
  {
   "cell_type": "markdown",
   "metadata": {},
   "source": [
    "9. Crea un script que dadas dos tuplas cree una tupla resultante de la union de ambas."
   ]
  },
  {
   "cell_type": "code",
   "execution_count": 17,
   "metadata": {},
   "outputs": [
    {
     "name": "stdout",
     "output_type": "stream",
     "text": [
      "(1, 2, 3, 4, 5, 6)\n"
     ]
    }
   ],
   "source": [
    "mi_tupla1=(1,2,3)\n",
    "mi_tupla2=(4,5,6)\n",
    "tupla_total = mi_tupla1 + mi_tupla2\n",
    "print(tupla_total)"
   ]
  },
  {
   "cell_type": "markdown",
   "metadata": {},
   "source": [
    "10. Crea un script que dada una tupla de números devuelva e máximo y el mínimo."
   ]
  },
  {
   "cell_type": "code",
   "execution_count": 5,
   "metadata": {},
   "outputs": [
    {
     "name": "stdout",
     "output_type": "stream",
     "text": [
      "El minimo es  1  y el maximo es  6\n"
     ]
    }
   ],
   "source": [
    "mi_tupla = (1,2,3,4,5,6)\n",
    "minimo = min(mi_tupla)\n",
    "maximo = max(mi_tupla)\n",
    "print('El minimo es ', minimo, ' y el maximo es ', maximo)"
   ]
  },
  {
   "cell_type": "markdown",
   "metadata": {},
   "source": [
    "11. Crea un script que dada una tupla con strings devuelva el string más largo y el más\n",
    "corto. (Prueba añadiendo key=len a las funciones max y min)."
   ]
  },
  {
   "cell_type": "code",
   "execution_count": null,
   "metadata": {},
   "outputs": [
    {
     "name": "stdout",
     "output_type": "stream",
     "text": [
      "pera manzana\n"
     ]
    }
   ],
   "source": [
    "mi_tupla ='manzana', 'pera', 'fresa'\n",
    "\n",
    "minimo = min(mi_tupla, key = len)\n",
    "maximo = max(mi_tupla, key = len)\n",
    "print(minimo, maximo)"
   ]
  },
  {
   "cell_type": "markdown",
   "metadata": {},
   "source": [
    "12. Crea un script que dada una tupla devuelva el contenido en orden revertido."
   ]
  },
  {
   "cell_type": "code",
   "execution_count": 8,
   "metadata": {},
   "outputs": [
    {
     "name": "stdout",
     "output_type": "stream",
     "text": [
      "(7, 6, 5, 4, 3, 2, 1)\n"
     ]
    }
   ],
   "source": [
    "mi_tupla=(1,2,3,4,5,6,7)\n",
    "mi_tupla_revertida = mi_tupla[::-1]\n",
    "print(mi_tupla_revertida)"
   ]
  },
  {
   "cell_type": "markdown",
   "metadata": {},
   "source": [
    "13. Crea un script que dada una tupla de tuplas, donde cada tupla interna contiene dos\n",
    "elementos, devuelva una nueva tupla en la que cada elemento sea la suma de los dos\n",
    "elementos de la tupla interna correspondiente."
   ]
  },
  {
   "cell_type": "code",
   "execution_count": 11,
   "metadata": {},
   "outputs": [
    {
     "ename": "AttributeError",
     "evalue": "'list' object has no attribute 'appemd'",
     "output_type": "error",
     "traceback": [
      "\u001b[1;31m---------------------------------------------------------------------------\u001b[0m",
      "\u001b[1;31mAttributeError\u001b[0m                            Traceback (most recent call last)",
      "Cell \u001b[1;32mIn[11], line 6\u001b[0m\n\u001b[0;32m      4\u001b[0m \u001b[38;5;28;01mfor\u001b[39;00m tupla_interna \u001b[38;5;129;01min\u001b[39;00m mi_tupla:\n\u001b[0;32m      5\u001b[0m     suma \u001b[38;5;241m=\u001b[39m \u001b[38;5;28msum\u001b[39m(tupla_interna)\n\u001b[1;32m----> 6\u001b[0m     mi_lista\u001b[38;5;241m.\u001b[39mappemd(suma)\n\u001b[0;32m      7\u001b[0m mi_nueva_tupla \u001b[38;5;241m=\u001b[39m \u001b[38;5;28mtuple\u001b[39m(mi_lista)\n\u001b[0;32m      8\u001b[0m \u001b[38;5;28mprint\u001b[39m(mi_nueva_tupla)\n",
      "\u001b[1;31mAttributeError\u001b[0m: 'list' object has no attribute 'appemd'"
     ]
    }
   ],
   "source": [
    "mi_tupla = ((1,2),(3,4),(5,6))\n",
    "mi_lista =[]\n",
    "\n",
    "for tupla_interna in mi_tupla:\n",
    "    suma = sum(tupla_interna)\n",
    "    mi_lista.appemd(suma)\n",
    "mi_nueva_tupla = tuple(mi_lista)\n",
    "print(mi_nueva_tupla)\n"
   ]
  }
 ],
 "metadata": {
  "kernelspec": {
   "display_name": "base",
   "language": "python",
   "name": "python3"
  },
  "language_info": {
   "codemirror_mode": {
    "name": "ipython",
    "version": 3
   },
   "file_extension": ".py",
   "mimetype": "text/x-python",
   "name": "python",
   "nbconvert_exporter": "python",
   "pygments_lexer": "ipython3",
   "version": "3.12.9"
  }
 },
 "nbformat": 4,
 "nbformat_minor": 2
}
