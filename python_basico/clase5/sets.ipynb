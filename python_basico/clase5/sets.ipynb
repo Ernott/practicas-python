{
 "cells": [
  {
   "cell_type": "markdown",
   "metadata": {},
   "source": [
    "14. Crea un set y elimina uno de sus elementos."
   ]
  },
  {
   "cell_type": "code",
   "execution_count": null,
   "metadata": {},
   "outputs": [
    {
     "name": "stdout",
     "output_type": "stream",
     "text": [
      "{1, 2, 3}\n"
     ]
    }
   ],
   "source": [
    "mi_set={1,2,3,4}\n",
    "mi_set.remove(4) \n",
    "print(mi_set)"
   ]
  },
  {
   "cell_type": "markdown",
   "metadata": {},
   "source": [
    "15. Crea un set vacío."
   ]
  },
  {
   "cell_type": "code",
   "execution_count": null,
   "metadata": {},
   "outputs": [
    {
     "name": "stdout",
     "output_type": "stream",
     "text": [
      "<class 'set'>\n"
     ]
    }
   ],
   "source": [
    "mi_set = set() # No se hace con {}\n",
    "print(type(mi_set))\n"
   ]
  },
  {
   "cell_type": "markdown",
   "metadata": {},
   "source": [
    "16. Crea dos sets y encuentra su union, su intersección y su diferencia"
   ]
  },
  {
   "cell_type": "code",
   "execution_count": 7,
   "metadata": {},
   "outputs": [
    {
     "name": "stdout",
     "output_type": "stream",
     "text": [
      "{1, 2, 3, 4, 5, 6, 7, 8}\n",
      "{4, 5}\n",
      "{8, 6, 7}\n"
     ]
    }
   ],
   "source": [
    "set1={1,2,3,4,5}\n",
    "set2={4,5,6,7,8}\n",
    "union= set1.union(set2)\n",
    "print(union)\n",
    "interseccion = set1.intersection(set2)\n",
    "print(interseccion)\n",
    "diferencia = set2.difference(set1)\n",
    "print(diferencia)"
   ]
  },
  {
   "cell_type": "markdown",
   "metadata": {},
   "source": [
    "17. Crea un script que dados dos sets cree uno nuevo que contenga solo los elementos\n",
    "comunes de ambos."
   ]
  },
  {
   "cell_type": "code",
   "execution_count": 9,
   "metadata": {},
   "outputs": [
    {
     "name": "stdout",
     "output_type": "stream",
     "text": [
      "{4, 5}\n"
     ]
    }
   ],
   "source": [
    "set1 ={1,2,3,4,5}\n",
    "set2 ={4,5,6,7,8,9,10}\n",
    "interseccion = set1.intersection(set2)\n",
    "print(interseccion)"
   ]
  },
  {
   "cell_type": "markdown",
   "metadata": {},
   "source": [
    "18. Crea un script que dado un set con números devuelva el numero máximo y mínimo."
   ]
  },
  {
   "cell_type": "code",
   "execution_count": 10,
   "metadata": {},
   "outputs": [
    {
     "name": "stdout",
     "output_type": "stream",
     "text": [
      "5 1\n"
     ]
    }
   ],
   "source": [
    "set ={1,2,3,4,5}\n",
    "maximo = max(set)\n",
    "minimo = min(set)\n",
    "print(maximo, minimo)"
   ]
  },
  {
   "cell_type": "markdown",
   "metadata": {},
   "source": [
    "19. Crea un script que dados dos sets cree uno nuevo solo con los elementos únicos de\n",
    "cada uno de los sets."
   ]
  },
  {
   "cell_type": "code",
   "execution_count": 12,
   "metadata": {},
   "outputs": [
    {
     "name": "stdout",
     "output_type": "stream",
     "text": [
      "{1, 2, 3, 6, 7, 8, 9, 10}\n",
      "{1, 2, 3, 6, 7, 8, 9, 10}\n"
     ]
    }
   ],
   "source": [
    "set1 ={1,2,3,4,5}\n",
    "set2 ={4,5,6,7,8,9,10}\n",
    "diferencia1 = set1.difference(set2)\n",
    "diferencia2 = set2.difference(set1)\n",
    "union = diferencia1.union(diferencia2)\n",
    "print(union)\n",
    "set3=set1.symmetric_difference(set2)\n",
    "print(set3)"
   ]
  },
  {
   "cell_type": "markdown",
   "metadata": {},
   "source": [
    "20. Crea un set con colores y comprueba si cierto color se encuentra en el set."
   ]
  },
  {
   "cell_type": "code",
   "execution_count": 13,
   "metadata": {},
   "outputs": [
    {
     "name": "stdout",
     "output_type": "stream",
     "text": [
      "False\n"
     ]
    }
   ],
   "source": [
    "set = {'azul', 'verde', 'lila'}\n",
    "pertenencia ='rojo' in set\n",
    "print(pertenencia)"
   ]
  },
  {
   "cell_type": "markdown",
   "metadata": {},
   "source": [
    "21. Crea un script que dados dos sets cree un nuevo set con los elementos que están en\n",
    "el primer set pero no en el segundo."
   ]
  },
  {
   "cell_type": "code",
   "execution_count": 14,
   "metadata": {},
   "outputs": [
    {
     "name": "stdout",
     "output_type": "stream",
     "text": [
      "{'lila', 'azul'}\n"
     ]
    }
   ],
   "source": [
    "set1 = {'azul', 'verde', 'lila'}\n",
    "set2 = {'rojo', 'turquesa', 'verde'}\n",
    "\n",
    "set3 = set1.difference(set2)\n",
    "print(set3)"
   ]
  },
  {
   "cell_type": "markdown",
   "metadata": {},
   "source": [
    "22. Crea un script que dado un set de enteros devuelva el producto de todos los números\n",
    "dentro del set."
   ]
  },
  {
   "cell_type": "code",
   "execution_count": 19,
   "metadata": {},
   "outputs": [
    {
     "name": "stdout",
     "output_type": "stream",
     "text": [
      "24\n"
     ]
    }
   ],
   "source": [
    "set={1,2,3,4}\n",
    "producto=1\n",
    "for numero in set:\n",
    "    producto = producto * numero\n",
    "print(producto)"
   ]
  }
 ],
 "metadata": {
  "kernelspec": {
   "display_name": "base",
   "language": "python",
   "name": "python3"
  },
  "language_info": {
   "codemirror_mode": {
    "name": "ipython",
    "version": 3
   },
   "file_extension": ".py",
   "mimetype": "text/x-python",
   "name": "python",
   "nbconvert_exporter": "python",
   "pygments_lexer": "ipython3",
   "version": "3.12.9"
  }
 },
 "nbformat": 4,
 "nbformat_minor": 2
}
