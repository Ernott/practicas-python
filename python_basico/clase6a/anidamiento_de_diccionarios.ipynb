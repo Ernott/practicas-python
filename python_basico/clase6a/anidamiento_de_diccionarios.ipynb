{
 "cells": [
  {
   "cell_type": "markdown",
   "metadata": {},
   "source": [
    "22. Crea un diccionario llamado \"productos\" que contenga dos entradas. Cada entrada\n",
    "representa un producto y tiene a su vez las claves \"nombre\" y \"precio\" con sus\n",
    "respectivos valores. Recorre el diccionario e imprime el nombre y precio de cada\n",
    "producto."
   ]
  },
  {
   "cell_type": "code",
   "execution_count": 10,
   "metadata": {},
   "outputs": [
    {
     "name": "stdout",
     "output_type": "stream",
     "text": [
      "El precio de series x es de 500\n",
      "El precio de pspro es de 550\n"
     ]
    }
   ],
   "source": [
    "productos = {\n",
    "    'xbox': {'nombre': 'series x', 'precio': 500},\n",
    "    'ps5': {'nombre': 'pspro', 'precio': 550},\n",
    "}\n",
    "for clave, valor in productos.items():\n",
    "    clave = valor['nombre']\n",
    "    precio = valor['precio']\n",
    "    print('El precio de', clave, 'es de', precio)"
   ]
  },
  {
   "cell_type": "markdown",
   "metadata": {},
   "source": [
    "23. Agrega un nuevo producto al diccionario \"productos\" utilizando una nueva clave y\n",
    "valor. Imprime el diccionario actualizado."
   ]
  },
  {
   "cell_type": "code",
   "execution_count": 17,
   "metadata": {},
   "outputs": [
    {
     "name": "stdout",
     "output_type": "stream",
     "text": [
      "{'xbox': {'nombre': 'series x', 'precio': 500}, 'ps5': {'nombre': 'pspro', 'precio': 550}, 'nintendo': {'nombre': 'oled', 'precio': 300}}\n"
     ]
    }
   ],
   "source": [
    "productos = {\n",
    "    'xbox': {'nombre': 'series x', 'precio': 500},\n",
    "    'ps5': {'nombre': 'pspro', 'precio': 550},\n",
    "}\n",
    "productos['nintendo'] = { 'nombre':'oled', 'precio': 300}\n",
    "print(productos)"
   ]
  },
  {
   "cell_type": "markdown",
   "metadata": {},
   "source": [
    "24. Crea un diccionario llamado \"equipos\" que contenga tres entradas. Cada entrada\n",
    "representa un equipo deportivo y tiene las claves \"nombre\" y \"jugadores\" con sus\n",
    "respectivos valores. Los valores de \"jugadores\" deben ser listas con los nombres de\n",
    "los jugadores. Recorre el diccionario e imprime el nombre del equipo y la lista de\n",
    "jugadores."
   ]
  },
  {
   "cell_type": "code",
   "execution_count": 26,
   "metadata": {},
   "outputs": [
    {
     "name": "stdout",
     "output_type": "stream",
     "text": [
      "argentina\n",
      "['jugador 1', 'jugador 2', 'jugador 3']\n",
      "venezuela\n",
      "['jugador 1', 'jugador 2', 'jugador 3']\n",
      "brasil\n",
      "['jugador 1', 'jugador 2', 'jugador 3']\n"
     ]
    }
   ],
   "source": [
    "equipos = {\n",
    "    'equipo 1': {'nombre': 'argentina', 'jugadores': ['jugador 1', 'jugador 2', 'jugador 3']},\n",
    "    'equipo 2': {'nombre': 'venezuela', 'jugadores': ['jugador 1', 'jugador 2', 'jugador 3']},\n",
    "    'equipo 3': {'nombre': 'brasil', 'jugadores': ['jugador 1', 'jugador 2', 'jugador 3']},\n",
    "}\n",
    "for clave, valor in equipos.items(): \n",
    "    clave = valor['nombre']\n",
    "    jugadores = valor['jugadores']\n",
    "    print(clave)\n",
    "    print(jugadores)"
   ]
  },
  {
   "cell_type": "markdown",
   "metadata": {},
   "source": [
    "25. Agrega un nuevo equipo al diccionario \"equipos\" utilizando una nueva clave y valor.\n",
    "La lista de jugadores debe contener al menos tres nombres. Imprime el diccionario\n",
    "actualizado."
   ]
  },
  {
   "cell_type": "code",
   "execution_count": 27,
   "metadata": {},
   "outputs": [
    {
     "name": "stdout",
     "output_type": "stream",
     "text": [
      "{'equipo 1': {'nombre': 'argentina', 'jugadores': ['jugador 1', 'jugador 2', 'jugador 3']}, 'equipo 2': {'nombre': 'venezuela', 'jugadores': ['jugador 1', 'jugador 2', 'jugador 3']}, 'equipo 3': {'nombre': 'brasil', 'jugadores': ['jugador 1', 'jugador 2', 'jugador 3']}, 'equipo 4': {'nombre': 'peru', 'jugadores': ['jugador 1', 'jugador 2', 'jugador 3']}}\n"
     ]
    }
   ],
   "source": [
    "equipos = {\n",
    "    'equipo 1': {'nombre': 'argentina', 'jugadores': ['jugador 1', 'jugador 2', 'jugador 3']},\n",
    "    'equipo 2': {'nombre': 'venezuela', 'jugadores': ['jugador 1', 'jugador 2', 'jugador 3']},\n",
    "    'equipo 3': {'nombre': 'brasil', 'jugadores': ['jugador 1', 'jugador 2', 'jugador 3']},\n",
    "}\n",
    "equipos['equipo 4'] = { 'nombre':'peru', 'jugadores': ['jugador 1', 'jugador 2', 'jugador 3']}\n",
    "print(equipos)"
   ]
  },
  {
   "cell_type": "markdown",
   "metadata": {},
   "source": [
    "26. Actualiza la lista de jugadores de uno de los equipos existentes en el diccionario\n",
    "\"equipos\". Agrega un nuevo jugador a la lista. Imprime el diccionario actualizado."
   ]
  },
  {
   "cell_type": "code",
   "execution_count": 35,
   "metadata": {},
   "outputs": [
    {
     "name": "stdout",
     "output_type": "stream",
     "text": [
      "{'equipo 1': {'nombre': 'argentina', 'jugadores': ['jugador 1', 'jugador 2', 'jugador 3']}, 'equipo 2': {'nombre': 'venezuela', 'jugadores': ['jugador 1', 'jugador 2', 'jugador 3']}, 'equipo 3': {'nombre': 'brasil', 'jugadores': ['jugador 1', 'jugador 2', 'jugador 3', 'jugador 4']}}\n"
     ]
    }
   ],
   "source": [
    "equipos = {\n",
    "    'equipo 1': {'nombre': 'argentina', 'jugadores': ['jugador 1', 'jugador 2', 'jugador 3']},\n",
    "    'equipo 2': {'nombre': 'venezuela', 'jugadores': ['jugador 1', 'jugador 2', 'jugador 3']},\n",
    "    'equipo 3': {'nombre': 'brasil', 'jugadores': ['jugador 1', 'jugador 2', 'jugador 3']},\n",
    "}\n",
    "equipos['equipo 3']['jugadores'].append('jugador 4')\n",
    "print(equipos)"
   ]
  }
 ],
 "metadata": {
  "kernelspec": {
   "display_name": "env-1",
   "language": "python",
   "name": "python3"
  },
  "language_info": {
   "codemirror_mode": {
    "name": "ipython",
    "version": 3
   },
   "file_extension": ".py",
   "mimetype": "text/x-python",
   "name": "python",
   "nbconvert_exporter": "python",
   "pygments_lexer": "ipython3",
   "version": "3.13.2"
  }
 },
 "nbformat": 4,
 "nbformat_minor": 2
}
