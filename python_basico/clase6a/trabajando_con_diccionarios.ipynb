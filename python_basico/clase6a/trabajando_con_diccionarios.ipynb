{
 "cells": [
  {
   "cell_type": "markdown",
   "metadata": {},
   "source": [
    "1. Crea un diccionario vacío llamado “mi_diccionario”."
   ]
  },
  {
   "cell_type": "code",
   "execution_count": 1,
   "metadata": {},
   "outputs": [
    {
     "name": "stdout",
     "output_type": "stream",
     "text": [
      "<class 'dict'>\n"
     ]
    }
   ],
   "source": [
    "mi_diccionario = {}\n",
    "print(type(mi_diccionario))"
   ]
  },
  {
   "cell_type": "markdown",
   "metadata": {},
   "source": [
    "2. Agrega un par clave-valor a \"mi_diccionario\" donde la clave sea \"nombre\" y el valor\n",
    "sea tu nombre. "
   ]
  },
  {
   "cell_type": "code",
   "execution_count": 7,
   "metadata": {},
   "outputs": [
    {
     "name": "stdout",
     "output_type": "stream",
     "text": [
      "{'nombre': 'javier'}\n",
      "<class 'dict'>\n"
     ]
    }
   ],
   "source": [
    "mi_diccionario = {\n",
    "    'nombre': 'javier',\n",
    "}\n",
    "print(mi_diccionario)\n",
    "print(type(mi_diccionario))\n"
   ]
  },
  {
   "cell_type": "markdown",
   "metadata": {},
   "source": [
    "3. Accede e imprime el valor asociado con la clave \"nombre\" en “mi_diccionario\"."
   ]
  },
  {
   "cell_type": "code",
   "execution_count": 13,
   "metadata": {},
   "outputs": [
    {
     "name": "stdout",
     "output_type": "stream",
     "text": [
      "javier\n"
     ]
    }
   ],
   "source": [
    "mi_diccionario = {\n",
    "    'nombre': 'javier',\n",
    "}\n",
    "print(mi_diccionario['nombre'])"
   ]
  },
  {
   "cell_type": "markdown",
   "metadata": {},
   "source": [
    "4. Verifica si la clave \"edad\" existe en \"mi_diccionario\". Imprime \"True\" si existe y \"False\"\n",
    "en caso contrario."
   ]
  },
  {
   "cell_type": "code",
   "execution_count": 15,
   "metadata": {},
   "outputs": [
    {
     "name": "stdout",
     "output_type": "stream",
     "text": [
      "False\n"
     ]
    }
   ],
   "source": [
    "mi_diccionario = {\n",
    "    'nombre': 'javier',\n",
    "}\n",
    "print('edad' in mi_diccionario)\n"
   ]
  },
  {
   "cell_type": "markdown",
   "metadata": {},
   "source": [
    "5. Crea un diccionario llamado \"estudiante\" con los siguientes pares clave-valor:\n",
    "\"nombre\" con el nombre del alumno, \"edad\" con su edad y \"materia\" con su materia\n",
    "favorita."
   ]
  },
  {
   "cell_type": "code",
   "execution_count": 22,
   "metadata": {},
   "outputs": [
    {
     "name": "stdout",
     "output_type": "stream",
     "text": [
      "{'nombre': 'javier', 'edad': '26', 'materia': 'programacion'}\n"
     ]
    }
   ],
   "source": [
    "estudiante = {\n",
    "    'nombre': 'javier',\n",
    "    'edad': '26',\n",
    "    'materia' : 'programacion'\n",
    "}\n",
    "print(estudiante)"
   ]
  },
  {
   "cell_type": "markdown",
   "metadata": {},
   "source": [
    "6. Actualiza el valor de la clave \"edad\" en el diccionario \"estudiante\" para reflejar la edad\n",
    "actual de tu amigo."
   ]
  },
  {
   "cell_type": "code",
   "execution_count": 19,
   "metadata": {},
   "outputs": [
    {
     "name": "stdout",
     "output_type": "stream",
     "text": [
      "{'nombre': 'javier', 'edad': '28', 'materia': 'programacion'}\n"
     ]
    }
   ],
   "source": [
    "estudiante = {\n",
    "    'nombre': 'javier',\n",
    "    'edad': '26',\n",
    "    'materia' : 'programacion'\n",
    "}\n",
    "estudiante['edad'] = '28'\n",
    "print(estudiante)"
   ]
  },
  {
   "cell_type": "markdown",
   "metadata": {},
   "source": [
    "7. Elimina el par clave-valor con la clave \"materia\" del diccionario “estudiante\"."
   ]
  },
  {
   "cell_type": "code",
   "execution_count": 31,
   "metadata": {},
   "outputs": [
    {
     "name": "stdout",
     "output_type": "stream",
     "text": [
      "programacion\n",
      "{'nombre': 'javier', 'edad': '26'}\n"
     ]
    }
   ],
   "source": [
    "estudiante = {\n",
    "    'nombre': 'javier',\n",
    "    'edad': '26',\n",
    "    'materia' : 'programacion'\n",
    "}\n",
    "# Si queremos guardar el par clave-valor 'materia' tambien podemos utilizar el metodo .pop()\n",
    "materia = estudiante.pop('materia')\n",
    "print(materia)\n",
    "print(estudiante)"
   ]
  },
  {
   "cell_type": "code",
   "execution_count": 29,
   "metadata": {},
   "outputs": [
    {
     "name": "stdout",
     "output_type": "stream",
     "text": [
      "{'nombre': 'javier', 'edad': '26'}\n"
     ]
    }
   ],
   "source": [
    "estudiante = {\n",
    "    'nombre': 'javier',\n",
    "    'edad': '26',\n",
    "    'materia' : 'programacion'\n",
    "}\n",
    "# De otra manera podemos usar la funcion del\n",
    "del estudiante['materia']\n",
    "print(estudiante)"
   ]
  },
  {
   "cell_type": "markdown",
   "metadata": {},
   "source": [
    "8. Imprime todas las claves en el diccionario “estudiante\"."
   ]
  },
  {
   "cell_type": "code",
   "execution_count": 33,
   "metadata": {},
   "outputs": [
    {
     "name": "stdout",
     "output_type": "stream",
     "text": [
      "nombre\n",
      "edad\n",
      "materia\n"
     ]
    }
   ],
   "source": [
    "estudiante = {\n",
    "    'nombre': 'javier',\n",
    "    'edad': '26',\n",
    "    'materia' : 'programacion'\n",
    "}\n",
    "for clave in estudiante.keys():\n",
    "    print(clave)"
   ]
  },
  {
   "cell_type": "markdown",
   "metadata": {},
   "source": [
    "9. Crea un diccionario llamado \"agenda\" con tres entradas: \"Juan\" con el valor\n",
    "\"1234567890\", \"Joana\" con el valor \"9876543210\" y \"Jimena\" con el valor\n",
    "“5555555555”."
   ]
  },
  {
   "cell_type": "code",
   "execution_count": 34,
   "metadata": {},
   "outputs": [
    {
     "name": "stdout",
     "output_type": "stream",
     "text": [
      "{'juan': '1234567890', 'joana': '9876543210', 'jimena': '5555555555'}\n"
     ]
    }
   ],
   "source": [
    "agenda = {\n",
    "    'juan': '1234567890',\n",
    "    'joana': '9876543210',\n",
    "    'jimena': '5555555555'\n",
    "}\n",
    "print(agenda)"
   ]
  },
  {
   "cell_type": "markdown",
   "metadata": {},
   "source": [
    "10. Agrega una nueva entrada al diccionario \"agenda\" con la clave \"Julio\" y el valor\n",
    "“9998887777\"."
   ]
  },
  {
   "cell_type": "code",
   "execution_count": null,
   "metadata": {},
   "outputs": [
    {
     "name": "stdout",
     "output_type": "stream",
     "text": [
      "{'juan': '1234567890', 'joana': '9876543210', 'jimena': '5555555555', 'julio': '9998887777'}\n"
     ]
    }
   ],
   "source": [
    "agenda = {\n",
    "    'juan': '1234567890',\n",
    "    'joana': '9876543210',\n",
    "    'jimena': '5555555555',\n",
    "}\n",
    "agenda['julio'] = '9998887777'\n",
    "print(agenda)"
   ]
  },
  {
   "cell_type": "markdown",
   "metadata": {},
   "source": [
    "11. Imprime el número de entradas (pares clave-valor) en el diccionario “agenda\"."
   ]
  },
  {
   "cell_type": "code",
   "execution_count": 40,
   "metadata": {},
   "outputs": [
    {
     "name": "stdout",
     "output_type": "stream",
     "text": [
      "4\n"
     ]
    }
   ],
   "source": [
    "print(len(agenda))"
   ]
  },
  {
   "cell_type": "markdown",
   "metadata": {},
   "source": [
    "12. Crea una lista llamada \"claves\" que contenga todas las claves del diccionario\n",
    "“agenda\"."
   ]
  },
  {
   "cell_type": "code",
   "execution_count": 42,
   "metadata": {},
   "outputs": [
    {
     "name": "stdout",
     "output_type": "stream",
     "text": [
      "['juan', 'joana', 'jimena', 'julio']\n"
     ]
    }
   ],
   "source": [
    "claves = list(agenda.keys())\n",
    "print(claves)"
   ]
  },
  {
   "cell_type": "markdown",
   "metadata": {},
   "source": [
    "13. Verifica si la clave \"Juan\" existe en el diccionario \"agenda\". Imprime \"True\" si existe y\n",
    "\"False\" en caso contrario."
   ]
  },
  {
   "cell_type": "code",
   "execution_count": 43,
   "metadata": {},
   "outputs": [
    {
     "name": "stdout",
     "output_type": "stream",
     "text": [
      "True\n"
     ]
    }
   ],
   "source": [
    "print('juan' in agenda)"
   ]
  },
  {
   "cell_type": "markdown",
   "metadata": {},
   "source": [
    "14. Elimina la entrada con la clave “Jimena”."
   ]
  },
  {
   "cell_type": "code",
   "execution_count": null,
   "metadata": {},
   "outputs": [
    {
     "name": "stdout",
     "output_type": "stream",
     "text": [
      "{'juan': '1234567890', 'joana': '9876543210', 'julio': '9998887777'}\n"
     ]
    }
   ],
   "source": [
    "print(agenda)\n",
    "# del Elimina de manera permanente CUIDADO OJO MMGVO"
   ]
  },
  {
   "cell_type": "markdown",
   "metadata": {},
   "source": [
    "15. Utiliza un bucle for para iterar sobre todas las claves en el diccionario \"agenda\" e\n",
    "imprime cada par clave-valor en el formato \"Nombre: Número”."
   ]
  },
  {
   "cell_type": "code",
   "execution_count": 56,
   "metadata": {},
   "outputs": [
    {
     "name": "stdout",
     "output_type": "stream",
     "text": [
      "El numero telefónico de Juan es 1234567890\n",
      "El numero telefónico de Joana es 9876543210\n",
      "El numero telefónico de Jimena es 5555555555\n",
      "El numero telefónico de Julio es 9998887777\n"
     ]
    }
   ],
   "source": [
    "agenda = {\n",
    "    'juan': '1234567890',\n",
    "    'joana': '9876543210',\n",
    "    'jimena': '5555555555',\n",
    "    'julio': '9998887777',\n",
    "}\n",
    "\n",
    "for nombre, numero in agenda.items():\n",
    "    print('El numero telefónico de', nombre.title(), 'es', numero)"
   ]
  },
  {
   "cell_type": "markdown",
   "metadata": {},
   "source": [
    "16. Utiliza el método \"get()\" para obtener el valor asociado con la clave \"Juan\" en el\n",
    "diccionario \"agenda\". Si la clave no existe, imprime \"Clave no encontrada”."
   ]
  },
  {
   "cell_type": "code",
   "execution_count": 59,
   "metadata": {},
   "outputs": [
    {
     "name": "stdout",
     "output_type": "stream",
     "text": [
      "1234567890\n",
      "clave no encontrada\n"
     ]
    }
   ],
   "source": [
    "print(agenda.get('juan'))\n",
    "print(agenda.get('juancho', 'clave no encontrada'))"
   ]
  },
  {
   "cell_type": "markdown",
   "metadata": {},
   "source": [
    "17. Borra todas las entradas del diccionario “agenda”."
   ]
  },
  {
   "cell_type": "code",
   "execution_count": 60,
   "metadata": {},
   "outputs": [
    {
     "name": "stdout",
     "output_type": "stream",
     "text": [
      "{}\n"
     ]
    }
   ],
   "source": [
    "agenda.clear()\n",
    "print(agenda)"
   ]
  }
 ],
 "metadata": {
  "kernelspec": {
   "display_name": "env-1",
   "language": "python",
   "name": "python3"
  },
  "language_info": {
   "codemirror_mode": {
    "name": "ipython",
    "version": 3
   },
   "file_extension": ".py",
   "mimetype": "text/x-python",
   "name": "python",
   "nbconvert_exporter": "python",
   "pygments_lexer": "ipython3",
   "version": "3.13.2"
  }
 },
 "nbformat": 4,
 "nbformat_minor": 2
}
