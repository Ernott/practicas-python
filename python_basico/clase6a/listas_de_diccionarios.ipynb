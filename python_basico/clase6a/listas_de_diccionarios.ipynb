{
 "cells": [
  {
   "cell_type": "markdown",
   "metadata": {},
   "source": [
    "18. Crea una lista llamada \"estudiantes\" que contenga dos diccionarios. Cada diccionario\n",
    "representa a un estudiante y tiene las claves \"nombre\" y \"edad\" con sus respectivos\n",
    "valores. Recorre la lista e imprime el nombre y edad de cada estudiante."
   ]
  },
  {
   "cell_type": "code",
   "execution_count": 22,
   "metadata": {},
   "outputs": [
    {
     "name": "stdout",
     "output_type": "stream",
     "text": [
      "Nombre: Javier Edad: 26\n",
      "Nombre: Jhonathan Edad: 14\n",
      "Nombre: Mario Edad: 37\n"
     ]
    }
   ],
   "source": [
    "estudiantes = [\n",
    "    {'nombre': 'javier',\n",
    "    'edad': '26'},\n",
    "    {'nombre': 'jhonathan',\n",
    "    'edad': '14'},\n",
    "    {'nombre': 'mario',\n",
    "    'edad': '37'},\n",
    "]\n",
    "for estudiante in estudiantes:\n",
    "    nombre = estudiante['nombre']\n",
    "    edad = estudiante['edad']\n",
    "    print('Nombre:', nombre.title(), 'Edad:', edad)"
   ]
  },
  {
   "cell_type": "markdown",
   "metadata": {},
   "source": [
    "19. Agrega un nuevo estudiante a la lista \"estudiantes\" utilizando un diccionario con las\n",
    "mismas claves \"nombre\" y \"edad\". Imprime la lista actualizada."
   ]
  },
  {
   "cell_type": "code",
   "execution_count": 25,
   "metadata": {},
   "outputs": [
    {
     "name": "stdout",
     "output_type": "stream",
     "text": [
      "[{'nombre': 'javier', 'edad': '26'}, {'nombre': 'jhonathan', 'edad': '14'}, {'nombre': 'mario', 'edad': '37'}, {'nombre': 'Alis', 'edad': '33'}]\n"
     ]
    }
   ],
   "source": [
    "estudiantes.append({'nombre' : 'Alis', 'edad': '33'})\n",
    "print(estudiantes)"
   ]
  },
  {
   "cell_type": "markdown",
   "metadata": {},
   "source": [
    "20. Elimina el segundo estudiante de la lista \"estudiantes\". Imprime la lista actualizada."
   ]
  },
  {
   "cell_type": "code",
   "execution_count": 29,
   "metadata": {},
   "outputs": [
    {
     "name": "stdout",
     "output_type": "stream",
     "text": [
      "[{'nombre': 'javier', 'edad': '26'}, {'nombre': 'mario', 'edad': '37'}, {'nombre': 'Alis', 'edad': '33'}]\n"
     ]
    }
   ],
   "source": [
    "del estudiantes[1]\n",
    "print(estudiantes)"
   ]
  },
  {
   "cell_type": "markdown",
   "metadata": {},
   "source": [
    "21. Actualiza la edad del primer estudiante en la lista \"estudiantes\" a un nuevo valor.\n",
    "Imprime la lista actualizada."
   ]
  },
  {
   "cell_type": "code",
   "execution_count": 31,
   "metadata": {},
   "outputs": [
    {
     "name": "stdout",
     "output_type": "stream",
     "text": [
      "[{'nombre': 'javier', 'edad': '28'}, {'nombre': 'mario', 'edad': '37'}, {'nombre': 'Alis', 'edad': '33'}]\n"
     ]
    }
   ],
   "source": [
    "estudiantes[0]['edad'] = '28'\n",
    "print(estudiantes)"
   ]
  }
 ],
 "metadata": {
  "kernelspec": {
   "display_name": "env-1",
   "language": "python",
   "name": "python3"
  },
  "language_info": {
   "codemirror_mode": {
    "name": "ipython",
    "version": 3
   },
   "file_extension": ".py",
   "mimetype": "text/x-python",
   "name": "python",
   "nbconvert_exporter": "python",
   "pygments_lexer": "ipython3",
   "version": "3.13.2"
  }
 },
 "nbformat": 4,
 "nbformat_minor": 2
}
